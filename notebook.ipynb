{
 "cells": [
  {
   "cell_type": "code",
   "execution_count": 25,
   "id": "2330c657",
   "metadata": {},
   "outputs": [],
   "source": [
    "import pandas as pd\n",
    "import matplotlib.pyplot as plt\n",
    "from pathlib import Path"
   ]
  },
  {
   "cell_type": "markdown",
   "id": "32a652da",
   "metadata": {},
   "source": [
    "## Configuração de Caminhos\n",
    "\n",
    "Usamos `Path` da `pathlib` para construir caminhos de forma portável entre sistemas operacionais."
   ]
  },
  {
   "cell_type": "code",
   "execution_count": 26,
   "id": "7090c48c",
   "metadata": {},
   "outputs": [
    {
     "name": "stdout",
     "output_type": "stream",
     "text": [
      "Caminhos:\n",
      "  Dados: data\n",
      "  - Raw:   data\\raw\n"
     ]
    }
   ],
   "source": [
    "# Cria objeto Path para a pasta de dados\n",
    "pasta_dados = Path('data')\n",
    "\n",
    "# Cria caminho para subpasta 'raw' dentro de 'data'\n",
    "pasta_dados_brutos = pasta_dados / 'raw'\n",
    "\n",
    "# Exibe os caminhos criados\n",
    "print(f\"Caminhos:\\n  Dados: {pasta_dados}\\n  - Raw:   {pasta_dados_brutos}\")\n"
   ]
  },
  {
   "cell_type": "code",
   "execution_count": 27,
   "id": "04681b4c",
   "metadata": {},
   "outputs": [
    {
     "data": {
      "text/html": [
       "<div>\n",
       "<style scoped>\n",
       "    .dataframe tbody tr th:only-of-type {\n",
       "        vertical-align: middle;\n",
       "    }\n",
       "\n",
       "    .dataframe tbody tr th {\n",
       "        vertical-align: top;\n",
       "    }\n",
       "\n",
       "    .dataframe thead th {\n",
       "        text-align: right;\n",
       "    }\n",
       "</style>\n",
       "<table border=\"1\" class=\"dataframe\">\n",
       "  <thead>\n",
       "    <tr style=\"text-align: right;\">\n",
       "      <th></th>\n",
       "      <th>PassengerId</th>\n",
       "      <th>Survived</th>\n",
       "      <th>Pclass</th>\n",
       "      <th>Name</th>\n",
       "      <th>Sex</th>\n",
       "      <th>Age</th>\n",
       "      <th>SibSp</th>\n",
       "      <th>Parch</th>\n",
       "      <th>Ticket</th>\n",
       "      <th>Fare</th>\n",
       "      <th>Cabin</th>\n",
       "      <th>Embarked</th>\n",
       "    </tr>\n",
       "  </thead>\n",
       "  <tbody>\n",
       "    <tr>\n",
       "      <th>0</th>\n",
       "      <td>1</td>\n",
       "      <td>0</td>\n",
       "      <td>3</td>\n",
       "      <td>Braund, Mr. Owen Harris</td>\n",
       "      <td>male</td>\n",
       "      <td>22.0</td>\n",
       "      <td>1</td>\n",
       "      <td>0</td>\n",
       "      <td>A/5 21171</td>\n",
       "      <td>7.2500</td>\n",
       "      <td>NaN</td>\n",
       "      <td>S</td>\n",
       "    </tr>\n",
       "    <tr>\n",
       "      <th>1</th>\n",
       "      <td>2</td>\n",
       "      <td>1</td>\n",
       "      <td>1</td>\n",
       "      <td>Cumings, Mrs. John Bradley (Florence Briggs Th...</td>\n",
       "      <td>female</td>\n",
       "      <td>38.0</td>\n",
       "      <td>1</td>\n",
       "      <td>0</td>\n",
       "      <td>PC 17599</td>\n",
       "      <td>71.2833</td>\n",
       "      <td>C85</td>\n",
       "      <td>C</td>\n",
       "    </tr>\n",
       "    <tr>\n",
       "      <th>2</th>\n",
       "      <td>3</td>\n",
       "      <td>1</td>\n",
       "      <td>3</td>\n",
       "      <td>Heikkinen, Miss. Laina</td>\n",
       "      <td>female</td>\n",
       "      <td>26.0</td>\n",
       "      <td>0</td>\n",
       "      <td>0</td>\n",
       "      <td>STON/O2. 3101282</td>\n",
       "      <td>7.9250</td>\n",
       "      <td>NaN</td>\n",
       "      <td>S</td>\n",
       "    </tr>\n",
       "    <tr>\n",
       "      <th>3</th>\n",
       "      <td>4</td>\n",
       "      <td>1</td>\n",
       "      <td>1</td>\n",
       "      <td>Futrelle, Mrs. Jacques Heath (Lily May Peel)</td>\n",
       "      <td>female</td>\n",
       "      <td>35.0</td>\n",
       "      <td>1</td>\n",
       "      <td>0</td>\n",
       "      <td>113803</td>\n",
       "      <td>53.1000</td>\n",
       "      <td>C123</td>\n",
       "      <td>S</td>\n",
       "    </tr>\n",
       "    <tr>\n",
       "      <th>4</th>\n",
       "      <td>5</td>\n",
       "      <td>0</td>\n",
       "      <td>3</td>\n",
       "      <td>Allen, Mr. William Henry</td>\n",
       "      <td>male</td>\n",
       "      <td>35.0</td>\n",
       "      <td>0</td>\n",
       "      <td>0</td>\n",
       "      <td>373450</td>\n",
       "      <td>8.0500</td>\n",
       "      <td>NaN</td>\n",
       "      <td>S</td>\n",
       "    </tr>\n",
       "  </tbody>\n",
       "</table>\n",
       "</div>"
      ],
      "text/plain": [
       "   PassengerId  Survived  Pclass  \\\n",
       "0            1         0       3   \n",
       "1            2         1       1   \n",
       "2            3         1       3   \n",
       "3            4         1       1   \n",
       "4            5         0       3   \n",
       "\n",
       "                                                Name     Sex   Age  SibSp  \\\n",
       "0                            Braund, Mr. Owen Harris    male  22.0      1   \n",
       "1  Cumings, Mrs. John Bradley (Florence Briggs Th...  female  38.0      1   \n",
       "2                             Heikkinen, Miss. Laina  female  26.0      0   \n",
       "3       Futrelle, Mrs. Jacques Heath (Lily May Peel)  female  35.0      1   \n",
       "4                           Allen, Mr. William Henry    male  35.0      0   \n",
       "\n",
       "   Parch            Ticket     Fare Cabin Embarked  \n",
       "0      0         A/5 21171   7.2500   NaN        S  \n",
       "1      0          PC 17599  71.2833   C85        C  \n",
       "2      0  STON/O2. 3101282   7.9250   NaN        S  \n",
       "3      0            113803  53.1000  C123        S  \n",
       "4      0            373450   8.0500   NaN        S  "
      ]
     },
     "execution_count": 27,
     "metadata": {},
     "output_type": "execute_result"
    }
   ],
   "source": [
    "caminho_titanic_bruto = pasta_dados_brutos / 'titanic.csv' # caminho do arquivo\n",
    "raw_df = pd.read_csv(caminho_titanic_bruto)\n",
    "raw_df.head()"
   ]
  },
  {
   "cell_type": "markdown",
   "id": "60e910b7",
   "metadata": {},
   "source": [
    "## Profiling Inicial do DataFrame\n",
    "\n",
    "Análise exploratória rápida para entender estrutura, tipos e possíveis problemas nos dados."
   ]
  },
  {
   "cell_type": "code",
   "execution_count": 28,
   "id": "33985b59",
   "metadata": {},
   "outputs": [
    {
     "name": "stdout",
     "output_type": "stream",
     "text": [
      "=== INFORMAÇÕES BÁSICAS ===\n",
      "Dimensões: (891, 12)\n",
      "Total de registros: 891\n",
      "Total de colunas: 12\n",
      "Memória usada: 285.6 KB\n"
     ]
    }
   ],
   "source": [
    "# Informações básicas sobre o DataFrame\n",
    "print(\"=== INFORMAÇÕES BÁSICAS ===\")\n",
    "print(f\"Dimensões: {raw_df.shape}\")\n",
    "print(f\"Total de registros: {len(raw_df)}\")\n",
    "print(f\"Total de colunas: {len(raw_df.columns)}\")\n",
    "print(f\"Memória usada: {raw_df.memory_usage(deep=True).sum() / 1024:.1f} KB\")"
   ]
  },
  {
   "cell_type": "code",
   "execution_count": 29,
   "id": "af8be6a2",
   "metadata": {},
   "outputs": [
    {
     "name": "stdout",
     "output_type": "stream",
     "text": [
      "\n",
      "=== TIPOS DE DADOS ===\n",
      "PassengerId      int64\n",
      "Survived         int64\n",
      "Pclass           int64\n",
      "Name            object\n",
      "Sex             object\n",
      "Age            float64\n",
      "SibSp            int64\n",
      "Parch            int64\n",
      "Ticket          object\n",
      "Fare           float64\n",
      "Cabin           object\n",
      "Embarked        object\n",
      "dtype: object\n"
     ]
    }
   ],
   "source": [
    "# Tipos de dados por coluna\n",
    "print(\"\\n=== TIPOS DE DADOS ===\")\n",
    "print(raw_df.dtypes)"
   ]
  },
  {
   "cell_type": "code",
   "execution_count": 30,
   "id": "0bdd3b91",
   "metadata": {},
   "outputs": [
    {
     "name": "stdout",
     "output_type": "stream",
     "text": [
      "\n",
      "=== VALORES AUSENTES ===\n",
      "          Ausentes  Percentual\n",
      "Age            177        19.9\n",
      "Cabin          687        77.1\n",
      "Embarked         2         0.2\n"
     ]
    }
   ],
   "source": [
    "# Valores ausentes por coluna\n",
    "print(\"\\n=== VALORES AUSENTES ===\")\n",
    "valores_ausentes = raw_df.isnull().sum()\n",
    "percentual_ausentes = (valores_ausentes / len(raw_df)) * 100\n",
    "\n",
    "ausentes_df = pd.DataFrame({\n",
    "    'Ausentes': valores_ausentes,\n",
    "    'Percentual': percentual_ausentes.round(1)\n",
    "})\n",
    "print(ausentes_df[ausentes_df['Ausentes'] > 0])"
   ]
  },
  {
   "cell_type": "code",
   "execution_count": 31,
   "id": "e594718f",
   "metadata": {},
   "outputs": [
    {
     "name": "stdout",
     "output_type": "stream",
     "text": [
      "\n",
      "=== ESTATÍSTICAS NUMÉRICAS ===\n"
     ]
    },
    {
     "data": {
      "text/html": [
       "<div>\n",
       "<style scoped>\n",
       "    .dataframe tbody tr th:only-of-type {\n",
       "        vertical-align: middle;\n",
       "    }\n",
       "\n",
       "    .dataframe tbody tr th {\n",
       "        vertical-align: top;\n",
       "    }\n",
       "\n",
       "    .dataframe thead th {\n",
       "        text-align: right;\n",
       "    }\n",
       "</style>\n",
       "<table border=\"1\" class=\"dataframe\">\n",
       "  <thead>\n",
       "    <tr style=\"text-align: right;\">\n",
       "      <th></th>\n",
       "      <th>PassengerId</th>\n",
       "      <th>Survived</th>\n",
       "      <th>Pclass</th>\n",
       "      <th>Age</th>\n",
       "      <th>SibSp</th>\n",
       "      <th>Parch</th>\n",
       "      <th>Fare</th>\n",
       "    </tr>\n",
       "  </thead>\n",
       "  <tbody>\n",
       "    <tr>\n",
       "      <th>count</th>\n",
       "      <td>891.000000</td>\n",
       "      <td>891.000000</td>\n",
       "      <td>891.000000</td>\n",
       "      <td>714.000000</td>\n",
       "      <td>891.000000</td>\n",
       "      <td>891.000000</td>\n",
       "      <td>891.000000</td>\n",
       "    </tr>\n",
       "    <tr>\n",
       "      <th>mean</th>\n",
       "      <td>446.000000</td>\n",
       "      <td>0.383838</td>\n",
       "      <td>2.308642</td>\n",
       "      <td>29.699118</td>\n",
       "      <td>0.523008</td>\n",
       "      <td>0.381594</td>\n",
       "      <td>32.204208</td>\n",
       "    </tr>\n",
       "    <tr>\n",
       "      <th>std</th>\n",
       "      <td>257.353842</td>\n",
       "      <td>0.486592</td>\n",
       "      <td>0.836071</td>\n",
       "      <td>14.526497</td>\n",
       "      <td>1.102743</td>\n",
       "      <td>0.806057</td>\n",
       "      <td>49.693429</td>\n",
       "    </tr>\n",
       "    <tr>\n",
       "      <th>min</th>\n",
       "      <td>1.000000</td>\n",
       "      <td>0.000000</td>\n",
       "      <td>1.000000</td>\n",
       "      <td>0.420000</td>\n",
       "      <td>0.000000</td>\n",
       "      <td>0.000000</td>\n",
       "      <td>0.000000</td>\n",
       "    </tr>\n",
       "    <tr>\n",
       "      <th>25%</th>\n",
       "      <td>223.500000</td>\n",
       "      <td>0.000000</td>\n",
       "      <td>2.000000</td>\n",
       "      <td>20.125000</td>\n",
       "      <td>0.000000</td>\n",
       "      <td>0.000000</td>\n",
       "      <td>7.910400</td>\n",
       "    </tr>\n",
       "    <tr>\n",
       "      <th>50%</th>\n",
       "      <td>446.000000</td>\n",
       "      <td>0.000000</td>\n",
       "      <td>3.000000</td>\n",
       "      <td>28.000000</td>\n",
       "      <td>0.000000</td>\n",
       "      <td>0.000000</td>\n",
       "      <td>14.454200</td>\n",
       "    </tr>\n",
       "    <tr>\n",
       "      <th>75%</th>\n",
       "      <td>668.500000</td>\n",
       "      <td>1.000000</td>\n",
       "      <td>3.000000</td>\n",
       "      <td>38.000000</td>\n",
       "      <td>1.000000</td>\n",
       "      <td>0.000000</td>\n",
       "      <td>31.000000</td>\n",
       "    </tr>\n",
       "    <tr>\n",
       "      <th>max</th>\n",
       "      <td>891.000000</td>\n",
       "      <td>1.000000</td>\n",
       "      <td>3.000000</td>\n",
       "      <td>80.000000</td>\n",
       "      <td>8.000000</td>\n",
       "      <td>6.000000</td>\n",
       "      <td>512.329200</td>\n",
       "    </tr>\n",
       "  </tbody>\n",
       "</table>\n",
       "</div>"
      ],
      "text/plain": [
       "       PassengerId    Survived      Pclass         Age       SibSp  \\\n",
       "count   891.000000  891.000000  891.000000  714.000000  891.000000   \n",
       "mean    446.000000    0.383838    2.308642   29.699118    0.523008   \n",
       "std     257.353842    0.486592    0.836071   14.526497    1.102743   \n",
       "min       1.000000    0.000000    1.000000    0.420000    0.000000   \n",
       "25%     223.500000    0.000000    2.000000   20.125000    0.000000   \n",
       "50%     446.000000    0.000000    3.000000   28.000000    0.000000   \n",
       "75%     668.500000    1.000000    3.000000   38.000000    1.000000   \n",
       "max     891.000000    1.000000    3.000000   80.000000    8.000000   \n",
       "\n",
       "            Parch        Fare  \n",
       "count  891.000000  891.000000  \n",
       "mean     0.381594   32.204208  \n",
       "std      0.806057   49.693429  \n",
       "min      0.000000    0.000000  \n",
       "25%      0.000000    7.910400  \n",
       "50%      0.000000   14.454200  \n",
       "75%      0.000000   31.000000  \n",
       "max      6.000000  512.329200  "
      ]
     },
     "execution_count": 31,
     "metadata": {},
     "output_type": "execute_result"
    }
   ],
   "source": [
    "# Estatísticas descritivas para colunas numéricas\n",
    "print(\"\\n=== ESTATÍSTICAS NUMÉRICAS ===\")\n",
    "raw_df.describe()"
   ]
  },
  {
   "cell_type": "code",
   "execution_count": 32,
   "id": "4596a5cc",
   "metadata": {},
   "outputs": [
    {
     "name": "stdout",
     "output_type": "stream",
     "text": [
      "\n",
      "=== VALORES ÚNICOS (CATEGÓRICAS) ===\n",
      "Name: 891 valores únicos\n",
      "\n",
      "Sex: 2 valores únicos\n",
      "  → ['male', 'female']\n",
      "\n",
      "Ticket: 681 valores únicos\n",
      "\n",
      "Cabin: 147 valores únicos\n",
      "\n",
      "Embarked: 3 valores únicos\n",
      "  → ['S', 'C', 'Q', nan]\n",
      "\n"
     ]
    }
   ],
   "source": [
    "# Valores únicos para colunas categóricas\n",
    "print(\"\\n=== VALORES ÚNICOS (CATEGÓRICAS) ===\")\n",
    "colunas_categoricas = raw_df.select_dtypes(include=['object']).columns\n",
    "\n",
    "for coluna in colunas_categoricas:\n",
    "    valores_unicos = raw_df[coluna].nunique()\n",
    "    print(f\"{coluna}: {valores_unicos} valores únicos\")\n",
    "    if valores_unicos <= 10:  # Mostra valores se poucos\n",
    "        print(f\"  → {list(raw_df[coluna].unique())}\")\n",
    "    print()"
   ]
  },
  {
   "cell_type": "code",
   "execution_count": 33,
   "id": "43d9d2cd",
   "metadata": {},
   "outputs": [
    {
     "name": "stdout",
     "output_type": "stream",
     "text": [
      "=== DUPLICATAS ===\n",
      "Registros duplicados: 0\n"
     ]
    }
   ],
   "source": [
    "# Verificação de registros duplicados\n",
    "print(\"=== DUPLICATAS ===\")\n",
    "duplicatas = raw_df.duplicated().sum()\n",
    "print(f\"Registros duplicados: {duplicatas}\")\n",
    "\n",
    "if duplicatas > 0:\n",
    "    print(\"Primeiras 5 duplicatas:\")\n",
    "    print(raw_df[raw_df.duplicated()].head())"
   ]
  },
  {
   "cell_type": "markdown",
   "id": "bf68b052",
   "metadata": {},
   "source": [
    "## Visualizações Exploratórias\n",
    "\n",
    "Gráficos simples para entender distribuições e padrões nos dados usando seaborn."
   ]
  },
  {
   "cell_type": "code",
   "execution_count": 34,
   "id": "e38e67e8",
   "metadata": {},
   "outputs": [],
   "source": [
    "import seaborn as sns\n",
    "\n",
    "# Configuração do estilo seaborn\n",
    "sns.set_style(\"whitegrid\")\n",
    "plt.rcParams['figure.figsize'] = (10, 6)"
   ]
  },
  {
   "cell_type": "code",
   "execution_count": 35,
   "id": "9b94ce59",
   "metadata": {},
   "outputs": [
    {
     "data": {
      "image/png": "[encoded data removed]",
      "text/plain": [
       "<Figure size 1200x800 with 4 Axes>"
      ]
     },
     "metadata": {},
     "output_type": "display_data"
    }
   ],
   "source": [
    "# Histogramas das variáveis numéricas com seaborn\n",
    "fig, axes = plt.subplots(2, 2, figsize=(12, 8))\n",
    "\n",
    "# Age - distribuição de idades\n",
    "sns.histplot(data=raw_df, x='Age', bins=30, ax=axes[0,0])\n",
    "axes[0,0].set_title('Distribuição de Idades')\n",
    "\n",
    "# Fare - distribuição de tarifas\n",
    "sns.histplot(data=raw_df, x='Fare', bins=30, ax=axes[0,1])\n",
    "axes[0,1].set_title('Distribuição de Tarifas')\n",
    "\n",
    "# SibSp - irmãos/cônjuges a bordo\n",
    "sns.histplot(data=raw_df, x='SibSp', bins=8, ax=axes[1,0])\n",
    "axes[1,0].set_title('Irmãos/Cônjuges a Bordo')\n",
    "\n",
    "# Parch - pais/filhos a bordo\n",
    "sns.histplot(data=raw_df, x='Parch', bins=7, ax=axes[1,1])\n",
    "axes[1,1].set_title('Pais/Filhos a Bordo')\n",
    "\n",
    "plt.tight_layout()\n",
    "plt.show()"
   ]
  },
  {
   "cell_type": "code",
   "execution_count": 36,
   "id": "468f8b8a",
   "metadata": {},
   "outputs": [
    {
     "data": {
      "image/png": "[encoded data removed]",
      "text/plain": [
       "<Figure size 1200x500 with 2 Axes>"
      ]
     },
     "metadata": {},
     "output_type": "display_data"
    }
   ],
   "source": [
    "# Boxplots para detectar outliers com seaborn\n",
    "fig, axes = plt.subplots(1, 2, figsize=(12, 5))\n",
    "\n",
    "# Age - boxplot para outliers de idade\n",
    "sns.boxplot(data=raw_df, y='Age', ax=axes[0])\n",
    "axes[0].set_title('Boxplot - Idades')\n",
    "\n",
    "# Fare - boxplot para outliers de tarifa\n",
    "sns.boxplot(data=raw_df, y='Fare', ax=axes[1])\n",
    "axes[1].set_title('Boxplot - Tarifas')\n",
    "\n",
    "plt.tight_layout()\n",
    "plt.show()"
   ]
  },
  {
   "cell_type": "code",
   "execution_count": 37,
   "id": "2ef78f1b",
   "metadata": {},
   "outputs": [
    {
     "name": "stderr",
     "output_type": "stream",
     "text": [
      "C:\\Users\\brunoritter\\AppData\\Local\\Temp\\ipykernel_24264\\610270265.py:19: UserWarning: set_ticklabels() should only be used with a fixed number of ticks, i.e. after set_ticks() or using a FixedLocator.\n",
      "  axes[1,1].set_xticklabels(['Não', 'Sim'])\n"
     ]
    },
    {
     "data": {
      "image/png": "[encoded data removed]",
      "text/plain": [
       "<Figure size 1200x800 with 4 Axes>"
      ]
     },
     "metadata": {},
     "output_type": "display_data"
    }
   ],
   "source": [
    "# Gráficos de contagem para variáveis categóricas com seaborn\n",
    "fig, axes = plt.subplots(2, 2, figsize=(12, 8))\n",
    "\n",
    "# Sex - distribuição por gênero\n",
    "sns.countplot(data=raw_df, x='Sex', ax=axes[0,0])\n",
    "axes[0,0].set_title('Distribuição por Gênero')\n",
    "\n",
    "# Pclass - distribuição por classe  \n",
    "sns.countplot(data=raw_df, x='Pclass', ax=axes[0,1])\n",
    "axes[0,1].set_title('Distribuição por Classe')\n",
    "\n",
    "# Embarked - distribuição por porto de embarque\n",
    "sns.countplot(data=raw_df, x='Embarked', ax=axes[1,0])\n",
    "axes[1,0].set_title('Porto de Embarque')\n",
    "\n",
    "# Survived - distribuição de sobreviventes\n",
    "sns.countplot(data=raw_df, x='Survived', ax=axes[1,1])\n",
    "axes[1,1].set_title('Sobreviventes')\n",
    "axes[1,1].set_xticklabels(['Não', 'Sim'])\n",
    "\n",
    "plt.tight_layout()\n",
    "plt.show()"
   ]
  },
  {
   "cell_type": "markdown",
   "id": "0f6fd1c9",
   "metadata": {},
   "source": [
    "## 1. Preparação dos Dados para Modelagem\n",
    "\n",
    "Separamos registros com idade conhecida (treino/teste) dos registros com idade ausente (predição futura)."
   ]
  },
  {
   "cell_type": "code",
   "execution_count": 38,
   "id": "806f276a",
   "metadata": {},
   "outputs": [
    {
     "name": "stdout",
     "output_type": "stream",
     "text": [
      "Registros com idade: 714\n",
      "Registros sem idade: 177\n",
      "Percentual sem idade: 19.9%\n"
     ]
    }
   ],
   "source": [
    "# Separar registros com e sem idade conhecida\n",
    "dados_com_idade = raw_df[raw_df['Age'].notna()].copy()\n",
    "dados_sem_idade = raw_df[raw_df['Age'].isna()].copy()\n",
    "\n",
    "print(f\"Registros com idade: {len(dados_com_idade)}\")\n",
    "print(f\"Registros sem idade: {len(dados_sem_idade)}\")\n",
    "print(f\"Percentual sem idade: {len(dados_sem_idade) / len(raw_df) * 100:.1f}%\")"
   ]
  },
  {
   "cell_type": "code",
   "execution_count": 39,
   "id": "14acd49a",
   "metadata": {},
   "outputs": [
    {
     "name": "stdout",
     "output_type": "stream",
     "text": [
      "Conjunto treino: (571, 6)\n",
      "Conjunto teste: (143, 6)\n",
      "Features baseline: ['Pclass', 'Sex_encoded', 'SibSp', 'Parch', 'Fare', 'Embarked_encoded']\n"
     ]
    }
   ],
   "source": [
    "# Imports necessários para modelagem\n",
    "from sklearn.model_selection import train_test_split\n",
    "from sklearn.linear_model import LinearRegression\n",
    "from sklearn.neighbors import KNeighborsRegressor\n",
    "from sklearn.preprocessing import LabelEncoder, OneHotEncoder, MinMaxScaler, StandardScaler, RobustScaler\n",
    "from sklearn.metrics import mean_squared_error, mean_absolute_error\n",
    "import numpy as np\n",
    "\n",
    "# Preparar dados básicos\n",
    "dados_modelo = dados_com_idade.copy()\n",
    "dados_modelo['Embarked'] = dados_modelo['Embarked'].fillna('S')\n",
    "dados_modelo['Fare'] = dados_modelo['Fare'].fillna(dados_modelo['Fare'].median())\n",
    "\n",
    "# Codificação simples com LabelEncoder (baseline)\n",
    "le_sex = LabelEncoder()\n",
    "le_embarked = LabelEncoder()\n",
    "dados_modelo['Sex_encoded'] = le_sex.fit_transform(dados_modelo['Sex'])\n",
    "dados_modelo['Embarked_encoded'] = le_embarked.fit_transform(dados_modelo['Embarked'])\n",
    "\n",
    "# Features e target\n",
    "features_baseline = ['Pclass', 'Sex_encoded', 'SibSp', 'Parch', 'Fare', 'Embarked_encoded']\n",
    "X_baseline = dados_modelo[features_baseline]\n",
    "y = dados_modelo['Age']\n",
    "\n",
    "# Split treino/teste (fixo para comparações)\n",
    "X_treino, X_teste, y_treino, y_teste = train_test_split(\n",
    "    X_baseline, y, test_size=0.2, random_state=42\n",
    ")\n",
    "\n",
    "print(f\"Conjunto treino: {X_treino.shape}\")\n",
    "print(f\"Conjunto teste: {X_teste.shape}\")\n",
    "print(f\"Features baseline: {features_baseline}\")"
   ]
  },
  {
   "cell_type": "markdown",
   "id": "7a135af5",
   "metadata": {},
   "source": [
    "## 2. Métricas de Erro - Nossa Bússola para Melhorias\n",
    "\n",
    "As métricas de erro nos guiam para identificar onde e como melhorar nossos modelos. Começamos com modelos simples para estabelecer valores de referência."
   ]
  },
  {
   "cell_type": "code",
   "execution_count": 40,
   "id": "6e829457",
   "metadata": {},
   "outputs": [
    {
     "name": "stdout",
     "output_type": "stream",
     "text": [
      "=== EXPERIMENTO 1: MODELOS BASELINE ===\n",
      "1.1 - Linear Regression (LabelEncoder): MAE=9.57, RMSE=11.81\n",
      "1.2 - KNN k=5 (LabelEncoder): MAE=10.10, RMSE=12.59\n"
     ]
    },
    {
     "data": {
      "text/plain": [
       "(10.103370629370627, np.float64(12.591060379591445))"
      ]
     },
     "execution_count": 40,
     "metadata": {},
     "output_type": "execute_result"
    }
   ],
   "source": [
    "# Tabela para acompanhar todos os experimentos\n",
    "resultados_experimentos = []\n",
    "\n",
    "def adicionar_resultado(nome, modelo, X_treino, X_teste, y_treino, y_teste):\n",
    "    \"\"\"Função para padronizar avaliação e registro de resultados\"\"\"\n",
    "    modelo.fit(X_treino, y_treino)\n",
    "    pred = modelo.predict(X_teste)\n",
    "    \n",
    "    mae = mean_absolute_error(y_teste, pred)\n",
    "    rmse = np.sqrt(mean_squared_error(y_teste, pred))\n",
    "    \n",
    "    resultados_experimentos.append({\n",
    "        'Experimento': nome,\n",
    "        'Features': X_treino.shape[1],\n",
    "        'MAE': mae,\n",
    "        'RMSE': rmse\n",
    "    })\n",
    "    \n",
    "    print(f\"{nome}: MAE={mae:.2f}, RMSE={rmse:.2f}\")\n",
    "    return mae, rmse\n",
    "\n",
    "# Experimento 1: Regressão Linear Baseline\n",
    "print(\"=== EXPERIMENTO 1: MODELOS BASELINE ===\")\n",
    "lr_baseline = LinearRegression()\n",
    "adicionar_resultado(\"1.1 - Linear Regression (LabelEncoder)\", \n",
    "                   lr_baseline, X_treino, X_teste, y_treino, y_teste)\n",
    "\n",
    "# Experimento 2: KNN Baseline  \n",
    "knn_baseline = KNeighborsRegressor(n_neighbors=5)\n",
    "adicionar_resultado(\"1.2 - KNN k=5 (LabelEncoder)\", \n",
    "                   knn_baseline, X_treino, X_teste, y_treino, y_teste)"
   ]
  },
  {
   "cell_type": "markdown",
   "id": "a18754c7",
   "metadata": {},
   "source": [
    "## 3. Melhoria 1: One-Hot Encoding vs Label Encoding\n",
    "\n",
    "Testamos diferentes formas de codificar variáveis categóricas. One-Hot evita assumir ordem nas categorias, mas pode criar \"dummy trap\" se não usarmos drop='first'."
   ]
  },
  {
   "cell_type": "code",
   "execution_count": 41,
   "id": "f8d2421d",
   "metadata": {},
   "outputs": [
    {
     "name": "stdout",
     "output_type": "stream",
     "text": [
      "=== EXPERIMENTO 2: ONE-HOT ENCODING ===\n",
      "One-Hot sem drop: Sex=2 cols, Embarked=3 cols\n",
      "One-Hot com drop: Sex=1 cols, Embarked=2 cols\n",
      "Features sem drop: 9\n",
      "Features com drop: 7\n"
     ]
    }
   ],
   "source": [
    "# Preparar One-Hot Encoding SEM drop (dummy trap possível)\n",
    "ohe_sem_drop = OneHotEncoder(sparse_output=False, drop=None)\n",
    "sex_ohe = ohe_sem_drop.fit_transform(dados_modelo[['Sex']])\n",
    "embarked_ohe = ohe_sem_drop.fit_transform(dados_modelo[['Embarked']])\n",
    "\n",
    "# One-Hot Encoding COM drop (evita dummy trap)\n",
    "ohe_com_drop = OneHotEncoder(sparse_output=False, drop='first')\n",
    "sex_ohe_drop = ohe_com_drop.fit_transform(dados_modelo[['Sex']])\n",
    "embarked_ohe_drop = ohe_com_drop.fit_transform(dados_modelo[['Embarked']])\n",
    "\n",
    "print(\"=== EXPERIMENTO 2: ONE-HOT ENCODING ===\")\n",
    "print(f\"One-Hot sem drop: Sex={sex_ohe.shape[1]} cols, Embarked={embarked_ohe.shape[1]} cols\")\n",
    "print(f\"One-Hot com drop: Sex={sex_ohe_drop.shape[1]} cols, Embarked={embarked_ohe_drop.shape[1]} cols\")\n",
    "\n",
    "# Criar datasets One-Hot\n",
    "features_numericas = dados_modelo[['Pclass', 'SibSp', 'Parch', 'Fare']].values\n",
    "\n",
    "# Dataset SEM drop\n",
    "X_ohe_sem = np.concatenate([features_numericas, sex_ohe, embarked_ohe], axis=1)\n",
    "X_ohe_sem_treino, X_ohe_sem_teste, _, _ = train_test_split(\n",
    "    X_ohe_sem, y, test_size=0.2, random_state=42\n",
    ")\n",
    "\n",
    "# Dataset COM drop  \n",
    "X_ohe_com = np.concatenate([features_numericas, sex_ohe_drop, embarked_ohe_drop], axis=1)\n",
    "X_ohe_com_treino, X_ohe_com_teste, _, _ = train_test_split(\n",
    "    X_ohe_com, y, test_size=0.2, random_state=42\n",
    ")\n",
    "\n",
    "print(f\"Features sem drop: {X_ohe_sem.shape[1]}\")\n",
    "print(f\"Features com drop: {X_ohe_com.shape[1]}\")"
   ]
  },
  {
   "cell_type": "code",
   "execution_count": 42,
   "id": "a5a0402e",
   "metadata": {},
   "outputs": [
    {
     "name": "stdout",
     "output_type": "stream",
     "text": [
      "2.1 - Linear Regression (One-Hot sem drop): MAE=9.53, RMSE=11.76\n",
      "2.2 - Linear Regression (One-Hot com drop): MAE=9.53, RMSE=11.76\n",
      "2.3 - KNN k=5 (One-Hot sem drop): MAE=10.01, RMSE=12.54\n",
      "2.4 - KNN k=5 (One-Hot com drop): MAE=9.80, RMSE=12.19\n"
     ]
    },
    {
     "data": {
      "text/plain": [
       "(9.800111888111886, np.float64(12.194948675693439))"
      ]
     },
     "execution_count": 42,
     "metadata": {},
     "output_type": "execute_result"
    }
   ],
   "source": [
    "# Testar Regressão Linear com One-Hot (problema dummy trap!)\n",
    "lr_ohe_sem = LinearRegression()\n",
    "adicionar_resultado(\"2.1 - Linear Regression (One-Hot sem drop)\", \n",
    "                   lr_ohe_sem, X_ohe_sem_treino, X_ohe_sem_teste, y_treino, y_teste)\n",
    "\n",
    "lr_ohe_com = LinearRegression()\n",
    "adicionar_resultado(\"2.2 - Linear Regression (One-Hot com drop)\", \n",
    "                   lr_ohe_com, X_ohe_com_treino, X_ohe_com_teste, y_treino, y_teste)\n",
    "\n",
    "# Testar KNN com One-Hot (menos sensível a dummy trap)\n",
    "knn_ohe_sem = KNeighborsRegressor(n_neighbors=5)\n",
    "adicionar_resultado(\"2.3 - KNN k=5 (One-Hot sem drop)\", \n",
    "                   knn_ohe_sem, X_ohe_sem_treino, X_ohe_sem_teste, y_treino, y_teste)\n",
    "\n",
    "knn_ohe_com = KNeighborsRegressor(n_neighbors=5)\n",
    "adicionar_resultado(\"2.4 - KNN k=5 (One-Hot com drop)\", \n",
    "                   knn_ohe_com, X_ohe_com_treino, X_ohe_com_teste, y_treino, y_teste)"
   ]
  },
  {
   "cell_type": "markdown",
   "id": "ffff957f",
   "metadata": {},
   "source": [
    "## 4. Melhoria 2: Escalonamento de Features\n",
    "\n",
    "KNN é sensível a diferenças de escala. Comparamos MinMaxScaler (0-1), StandardScaler (z-score) e RobustScaler (menos sensível a outliers)."
   ]
  },
  {
   "cell_type": "code",
   "execution_count": 43,
   "id": "ab8827d6",
   "metadata": {},
   "outputs": [
    {
     "name": "stdout",
     "output_type": "stream",
     "text": [
      "=== EXPERIMENTO 3: ESCALONAMENTO ===\n",
      "Escaladores preparados: MinMax, Standard, Robust\n"
     ]
    }
   ],
   "source": [
    "# Usar melhor configuração anterior (One-Hot com drop)\n",
    "X_base_treino, X_base_teste = X_ohe_com_treino, X_ohe_com_teste\n",
    "\n",
    "print(\"=== EXPERIMENTO 3: ESCALONAMENTO ===\")\n",
    "\n",
    "# MinMaxScaler (0-1)\n",
    "scaler_minmax = MinMaxScaler()\n",
    "X_minmax_treino = scaler_minmax.fit_transform(X_base_treino)\n",
    "X_minmax_teste = scaler_minmax.transform(X_base_teste)\n",
    "\n",
    "# StandardScaler (z-score: média=0, std=1)\n",
    "scaler_standard = StandardScaler()\n",
    "X_standard_treino = scaler_standard.fit_transform(X_base_treino)\n",
    "X_standard_teste = scaler_standard.transform(X_base_teste)\n",
    "\n",
    "# RobustScaler (mediana e quartis, menos sensível a outliers)\n",
    "scaler_robust = RobustScaler()\n",
    "X_robust_treino = scaler_robust.fit_transform(X_base_treino)\n",
    "X_robust_teste = scaler_robust.transform(X_base_teste)\n",
    "\n",
    "print(\"Escaladores preparados: MinMax, Standard, Robust\")"
   ]
  },
  {
   "cell_type": "code",
   "execution_count": 44,
   "id": "b1191886",
   "metadata": {},
   "outputs": [
    {
     "name": "stdout",
     "output_type": "stream",
     "text": [
      "3.1 - Linear Regression + MinMaxScaler: MAE=9.53, RMSE=11.76\n",
      "3.2 - KNN k=5 + MinMaxScaler: MAE=9.66, RMSE=12.26\n",
      "3.3 - KNN k=5 + StandardScaler: MAE=9.21, RMSE=11.79\n",
      "3.4 - KNN k=5 + RobustScaler: MAE=9.48, RMSE=11.93\n"
     ]
    },
    {
     "data": {
      "text/plain": [
       "(9.48158041958042, np.float64(11.926270370532816))"
      ]
     },
     "execution_count": 44,
     "metadata": {},
     "output_type": "execute_result"
    }
   ],
   "source": [
    "# Regressão Linear (não afetada por escalonamento)\n",
    "lr_minmax = LinearRegression()\n",
    "adicionar_resultado(\"3.1 - Linear Regression + MinMaxScaler\", \n",
    "                   lr_minmax, X_minmax_treino, X_minmax_teste, y_treino, y_teste)\n",
    "\n",
    "# KNN com diferentes escalonamentos\n",
    "knn_minmax = KNeighborsRegressor(n_neighbors=5)\n",
    "adicionar_resultado(\"3.2 - KNN k=5 + MinMaxScaler\", \n",
    "                   knn_minmax, X_minmax_treino, X_minmax_teste, y_treino, y_teste)\n",
    "\n",
    "knn_standard = KNeighborsRegressor(n_neighbors=5)\n",
    "adicionar_resultado(\"3.3 - KNN k=5 + StandardScaler\", \n",
    "                   knn_standard, X_standard_treino, X_standard_teste, y_treino, y_teste)\n",
    "\n",
    "knn_robust = KNeighborsRegressor(n_neighbors=5)\n",
    "adicionar_resultado(\"3.4 - KNN k=5 + RobustScaler\", \n",
    "                   knn_robust, X_robust_treino, X_robust_teste, y_treino, y_teste)"
   ]
  },
  {
   "cell_type": "markdown",
   "id": "ac13bb5e",
   "metadata": {},
   "source": [
    "## 5. Melhoria 3: Hiperparâmetros do KNN\n",
    "\n",
    "Testamos diferentes valores de k (vizinhos) e métricas de distância (euclidiana vs manhattan) para otimizar o KNN."
   ]
  },
  {
   "cell_type": "code",
   "execution_count": 45,
   "id": "326a85f6",
   "metadata": {},
   "outputs": [
    {
     "name": "stdout",
     "output_type": "stream",
     "text": [
      "=== EXPERIMENTO 4: HIPERPARÂMETROS KNN ===\n",
      "4.1 - KNN k=3 (Euclidiana): MAE=9.44, RMSE=12.41\n",
      "4.1 - KNN k=5 (Euclidiana): MAE=9.21, RMSE=11.79\n",
      "4.1 - KNN k=7 (Euclidiana): MAE=9.09, RMSE=11.63\n",
      "4.1 - KNN k=10 (Euclidiana): MAE=9.34, RMSE=11.72\n",
      "4.1 - KNN k=15 (Euclidiana): MAE=9.28, RMSE=11.71\n",
      "\n",
      "--- Testando métricas de distância ---\n",
      "4.2 - KNN k=5 (Euclidiana): MAE=9.21, RMSE=11.79\n",
      "4.3 - KNN k=5 (Manhattan): MAE=9.47, RMSE=11.92\n"
     ]
    },
    {
     "data": {
      "text/plain": [
       "(9.467594405594406, np.float64(11.921153458295207))"
      ]
     },
     "execution_count": 45,
     "metadata": {},
     "output_type": "execute_result"
    }
   ],
   "source": [
    "# Usar melhor escalonamento anterior (identificar qual teve menor RMSE)\n",
    "print(\"=== EXPERIMENTO 4: HIPERPARÂMETROS KNN ===\")\n",
    "\n",
    "# Testar diferentes valores de k\n",
    "for k in [3, 5, 7, 10, 15]:\n",
    "    knn_k = KNeighborsRegressor(n_neighbors=k, metric='euclidean')\n",
    "    adicionar_resultado(f\"4.1 - KNN k={k} (Euclidiana)\", \n",
    "                       knn_k, X_standard_treino, X_standard_teste, y_treino, y_teste)\n",
    "\n",
    "# Testar diferentes métricas de distância com k=5\n",
    "print(\"\\n--- Testando métricas de distância ---\")\n",
    "knn_euclidean = KNeighborsRegressor(n_neighbors=5, metric='euclidean')\n",
    "adicionar_resultado(\"4.2 - KNN k=5 (Euclidiana)\", \n",
    "                   knn_euclidean, X_standard_treino, X_standard_teste, y_treino, y_teste)\n",
    "\n",
    "knn_manhattan = KNeighborsRegressor(n_neighbors=5, metric='manhattan')\n",
    "adicionar_resultado(\"4.3 - KNN k=5 (Manhattan)\", \n",
    "                   knn_manhattan, X_standard_treino, X_standard_teste, y_treino, y_teste)"
   ]
  },
  {
   "cell_type": "markdown",
   "id": "95a9966c",
   "metadata": {},
   "source": [
    "## 6. Análise Final dos Resultados\n",
    "\n",
    "Comparamos todos os experimentos para identificar as melhores práticas e entender o impacto de cada escolha nas métricas de erro."
   ]
  },
  {
   "cell_type": "code",
   "execution_count": 46,
   "id": "b5bc9651",
   "metadata": {},
   "outputs": [
    {
     "name": "stdout",
     "output_type": "stream",
     "text": [
      "=== RANKING DOS MODELOS (ordenado por RMSE) ===\n",
      "                                   Experimento  Features     MAE    RMSE\n",
      "12                  4.1 - KNN k=7 (Euclidiana)         7   9.089  11.632\n",
      "14                 4.1 - KNN k=15 (Euclidiana)         7   9.282  11.714\n",
      "13                 4.1 - KNN k=10 (Euclidiana)         7   9.337  11.721\n",
      "3   2.2 - Linear Regression (One-Hot com drop)         7   9.530  11.762\n",
      "6       3.1 - Linear Regression + MinMaxScaler         7   9.530  11.762\n",
      "2   2.1 - Linear Regression (One-Hot sem drop)         9   9.530  11.762\n",
      "8               3.3 - KNN k=5 + StandardScaler         7   9.211  11.789\n",
      "11                  4.1 - KNN k=5 (Euclidiana)         7   9.211  11.789\n",
      "15                  4.2 - KNN k=5 (Euclidiana)         7   9.211  11.789\n",
      "0       1.1 - Linear Regression (LabelEncoder)         6   9.574  11.811\n",
      "16                   4.3 - KNN k=5 (Manhattan)         7   9.468  11.921\n",
      "9                 3.4 - KNN k=5 + RobustScaler         7   9.482  11.926\n",
      "5             2.4 - KNN k=5 (One-Hot com drop)         7   9.800  12.195\n",
      "7                 3.2 - KNN k=5 + MinMaxScaler         7   9.656  12.257\n",
      "10                  4.1 - KNN k=3 (Euclidiana)         7   9.438  12.409\n",
      "4             2.3 - KNN k=5 (One-Hot sem drop)         9  10.014  12.539\n",
      "1                 1.2 - KNN k=5 (LabelEncoder)         6  10.103  12.591\n",
      "\n",
      "🏆 MELHOR MODELO:\n",
      "   4.1 - KNN k=7 (Euclidiana)\n",
      "   RMSE: 11.632\n",
      "   MAE: 9.089\n",
      "\n",
      "📈 MELHORIA vs BASELINE:\n",
      "   Redução RMSE: 1.5%\n",
      "   Baseline: 11.811 → Melhor: 11.632\n"
     ]
    }
   ],
   "source": [
    "# Tabela final com todos os resultados\n",
    "df_resultados = pd.DataFrame(resultados_experimentos)\n",
    "df_resultados_sorted = df_resultados.sort_values('RMSE')\n",
    "\n",
    "print(\"=== RANKING DOS MODELOS (ordenado por RMSE) ===\")\n",
    "print(df_resultados_sorted.round(3))\n",
    "\n",
    "# Identificar melhor modelo\n",
    "melhor_modelo = df_resultados_sorted.iloc[0]\n",
    "print(f\"\\n🏆 MELHOR MODELO:\")\n",
    "print(f\"   {melhor_modelo['Experimento']}\")\n",
    "print(f\"   RMSE: {melhor_modelo['RMSE']:.3f}\")\n",
    "print(f\"   MAE: {melhor_modelo['MAE']:.3f}\")\n",
    "\n",
    "# Comparar baseline vs melhor\n",
    "baseline = df_resultados[df_resultados['Experimento'].str.contains('1.1')].iloc[0]\n",
    "melhoria_rmse = ((baseline['RMSE'] - melhor_modelo['RMSE']) / baseline['RMSE']) * 100\n",
    "\n",
    "print(f\"\\n📈 MELHORIA vs BASELINE:\")\n",
    "print(f\"   Redução RMSE: {melhoria_rmse:.1f}%\")\n",
    "print(f\"   Baseline: {baseline['RMSE']:.3f} → Melhor: {melhor_modelo['RMSE']:.3f}\")"
   ]
  },
  {
   "cell_type": "code",
   "execution_count": 47,
   "id": "71dc3ca6",
   "metadata": {},
   "outputs": [
    {
     "data": {
      "image/png": "[encoded data removed]",
      "text/plain": [
       "<Figure size 1500x600 with 2 Axes>"
      ]
     },
     "metadata": {},
     "output_type": "display_data"
    }
   ],
   "source": [
    "# Visualização dos resultados\n",
    "fig, (ax1, ax2) = plt.subplots(1, 2, figsize=(15, 6))\n",
    "\n",
    "# Gráfico RMSE\n",
    "df_plot = df_resultados.head(10)  # Top 10 para legibilidade\n",
    "ax1.barh(range(len(df_plot)), df_plot['RMSE'])\n",
    "ax1.set_yticks(range(len(df_plot)))\n",
    "ax1.set_yticklabels([exp.split(' - ')[1] if ' - ' in exp else exp for exp in df_plot['Experimento']], fontsize=8)\n",
    "ax1.set_xlabel('RMSE')\n",
    "ax1.set_title('Comparação RMSE - Top 10 Modelos')\n",
    "ax1.invert_yaxis()\n",
    "\n",
    "# Gráfico MAE\n",
    "ax2.barh(range(len(df_plot)), df_plot['MAE'])\n",
    "ax2.set_yticks(range(len(df_plot)))\n",
    "ax2.set_yticklabels([exp.split(' - ')[1] if ' - ' in exp else exp for exp in df_plot['Experimento']], fontsize=8)\n",
    "ax2.set_xlabel('MAE')\n",
    "ax2.set_title('Comparação MAE - Top 10 Modelos')\n",
    "ax2.invert_yaxis()\n",
    "\n",
    "plt.tight_layout()\n",
    "plt.show()"
   ]
  }
 ],
 "metadata": {
  "kernelspec": {
   "display_name": "base",
   "language": "python",
   "name": "python3"
  },
  "language_info": {
   "codemirror_mode": {
    "name": "ipython",
    "version": 3
   },
   "file_extension": ".py",
   "mimetype": "text/x-python",
   "name": "python",
   "nbconvert_exporter": "python",
   "pygments_lexer": "ipython3",
   "version": "3.12.8"
  }
 },
 "nbformat": 4,
 "nbformat_minor": 5
}
